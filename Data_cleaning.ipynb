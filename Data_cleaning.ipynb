{
 "cells": [
  {
   "cell_type": "markdown",
   "metadata": {},
   "source": [
    "# Cleaning the data set"
   ]
  },
  {
   "cell_type": "markdown",
   "metadata": {},
   "source": [
    "Now with a dataset store in the github project we can import it directly to our framework. We will continue using [pandas](https://pandas.pydata.org/)"
   ]
  },
  {
   "cell_type": "code",
   "execution_count": 1,
   "metadata": {},
   "outputs": [],
   "source": [
    "import pandas as pd"
   ]
  },
  {
   "cell_type": "code",
   "execution_count": 14,
   "metadata": {},
   "outputs": [],
   "source": [
    "df = pd.read_csv(\"https://raw.githubusercontent.com/prope-2020-gh-classroom/practica-final-por-equipos-verano-2020-itam-EddOselotl/master/airbnb.csv\")"
   ]
  },
  {
   "cell_type": "code",
   "execution_count": 15,
   "metadata": {},
   "outputs": [
    {
     "data": {
      "text/html": [
       "<div>\n",
       "<style scoped>\n",
       "    .dataframe tbody tr th:only-of-type {\n",
       "        vertical-align: middle;\n",
       "    }\n",
       "\n",
       "    .dataframe tbody tr th {\n",
       "        vertical-align: top;\n",
       "    }\n",
       "\n",
       "    .dataframe thead th {\n",
       "        text-align: right;\n",
       "    }\n",
       "</style>\n",
       "<table border=\"1\" class=\"dataframe\">\n",
       "  <thead>\n",
       "    <tr style=\"text-align: right;\">\n",
       "      <th></th>\n",
       "      <th>id</th>\n",
       "      <th>name</th>\n",
       "      <th>host_id</th>\n",
       "      <th>host_since</th>\n",
       "      <th>host_total_listings_count</th>\n",
       "      <th>latitude</th>\n",
       "      <th>longitude</th>\n",
       "      <th>neighbourhood_cleansed</th>\n",
       "      <th>property_type</th>\n",
       "      <th>room_type</th>\n",
       "      <th>square_feet</th>\n",
       "      <th>price</th>\n",
       "      <th>review_scores_rating</th>\n",
       "    </tr>\n",
       "  </thead>\n",
       "  <tbody>\n",
       "    <tr>\n",
       "      <th>0</th>\n",
       "      <td>22787</td>\n",
       "      <td>Sunny suite w/ queen size bed, inside boutique...</td>\n",
       "      <td>87973</td>\n",
       "      <td>2010-03-03</td>\n",
       "      <td>9</td>\n",
       "      <td>19.44076</td>\n",
       "      <td>-99.16324</td>\n",
       "      <td>Cuauhtémoc</td>\n",
       "      <td>Boutique hotel</td>\n",
       "      <td>Private room</td>\n",
       "      <td>248.0</td>\n",
       "      <td>$2,331.00</td>\n",
       "      <td>98.0</td>\n",
       "    </tr>\n",
       "    <tr>\n",
       "      <th>1</th>\n",
       "      <td>35797</td>\n",
       "      <td>Villa Dante</td>\n",
       "      <td>153786</td>\n",
       "      <td>2010-06-28</td>\n",
       "      <td>2</td>\n",
       "      <td>19.38399</td>\n",
       "      <td>-99.27335</td>\n",
       "      <td>Cuajimalpa de Morelos</td>\n",
       "      <td>Villa</td>\n",
       "      <td>Entire home/apt</td>\n",
       "      <td>32292.0</td>\n",
       "      <td>$4,457.00</td>\n",
       "      <td>NaN</td>\n",
       "    </tr>\n",
       "    <tr>\n",
       "      <th>2</th>\n",
       "      <td>56074</td>\n",
       "      <td>Great space in historical San Rafael</td>\n",
       "      <td>265650</td>\n",
       "      <td>2010-10-19</td>\n",
       "      <td>2</td>\n",
       "      <td>19.43937</td>\n",
       "      <td>-99.15614</td>\n",
       "      <td>Cuauhtémoc</td>\n",
       "      <td>Condominium</td>\n",
       "      <td>Entire home/apt</td>\n",
       "      <td>646.0</td>\n",
       "      <td>$809.00</td>\n",
       "      <td>97.0</td>\n",
       "    </tr>\n",
       "    <tr>\n",
       "      <th>3</th>\n",
       "      <td>58955</td>\n",
       "      <td>Entire beautiful duplex in la Roma</td>\n",
       "      <td>282620</td>\n",
       "      <td>2010-11-09</td>\n",
       "      <td>1</td>\n",
       "      <td>19.42292</td>\n",
       "      <td>-99.15775</td>\n",
       "      <td>Cuauhtémoc</td>\n",
       "      <td>Loft</td>\n",
       "      <td>Entire home/apt</td>\n",
       "      <td>1184.0</td>\n",
       "      <td>$1,932.00</td>\n",
       "      <td>100.0</td>\n",
       "    </tr>\n",
       "    <tr>\n",
       "      <th>4</th>\n",
       "      <td>61792</td>\n",
       "      <td>Spacious Clean Quiet room (own bath) in la Con...</td>\n",
       "      <td>299558</td>\n",
       "      <td>2010-11-26</td>\n",
       "      <td>1</td>\n",
       "      <td>19.41259</td>\n",
       "      <td>-99.17959</td>\n",
       "      <td>Cuauhtémoc</td>\n",
       "      <td>House</td>\n",
       "      <td>Private room</td>\n",
       "      <td>161.0</td>\n",
       "      <td>$1,364.00</td>\n",
       "      <td>98.0</td>\n",
       "    </tr>\n",
       "  </tbody>\n",
       "</table>\n",
       "</div>"
      ],
      "text/plain": [
       "      id                                               name  host_id  \\\n",
       "0  22787  Sunny suite w/ queen size bed, inside boutique...    87973   \n",
       "1  35797                                        Villa Dante   153786   \n",
       "2  56074               Great space in historical San Rafael   265650   \n",
       "3  58955                 Entire beautiful duplex in la Roma   282620   \n",
       "4  61792  Spacious Clean Quiet room (own bath) in la Con...   299558   \n",
       "\n",
       "   host_since  host_total_listings_count  latitude  longitude  \\\n",
       "0  2010-03-03                          9  19.44076  -99.16324   \n",
       "1  2010-06-28                          2  19.38399  -99.27335   \n",
       "2  2010-10-19                          2  19.43937  -99.15614   \n",
       "3  2010-11-09                          1  19.42292  -99.15775   \n",
       "4  2010-11-26                          1  19.41259  -99.17959   \n",
       "\n",
       "  neighbourhood_cleansed   property_type        room_type  square_feet  \\\n",
       "0             Cuauhtémoc  Boutique hotel     Private room        248.0   \n",
       "1  Cuajimalpa de Morelos           Villa  Entire home/apt      32292.0   \n",
       "2             Cuauhtémoc     Condominium  Entire home/apt        646.0   \n",
       "3             Cuauhtémoc            Loft  Entire home/apt       1184.0   \n",
       "4             Cuauhtémoc           House     Private room        161.0   \n",
       "\n",
       "       price  review_scores_rating  \n",
       "0  $2,331.00                  98.0  \n",
       "1  $4,457.00                   NaN  \n",
       "2    $809.00                  97.0  \n",
       "3  $1,932.00                 100.0  \n",
       "4  $1,364.00                  98.0  "
      ]
     },
     "execution_count": 15,
     "metadata": {},
     "output_type": "execute_result"
    }
   ],
   "source": [
    "df.head()"
   ]
  },
  {
   "cell_type": "markdown",
   "metadata": {},
   "source": [
    "Now we need to check our dataframe types"
   ]
  },
  {
   "cell_type": "code",
   "execution_count": 16,
   "metadata": {},
   "outputs": [
    {
     "data": {
      "text/plain": [
       "id                             int64\n",
       "name                          object\n",
       "host_id                        int64\n",
       "host_since                    object\n",
       "host_total_listings_count      int64\n",
       "latitude                     float64\n",
       "longitude                    float64\n",
       "neighbourhood_cleansed        object\n",
       "property_type                 object\n",
       "room_type                     object\n",
       "square_feet                  float64\n",
       "price                         object\n",
       "review_scores_rating         float64\n",
       "dtype: object"
      ]
     },
     "execution_count": 16,
     "metadata": {},
     "output_type": "execute_result"
    }
   ],
   "source": [
    "df.dtypes"
   ]
  },
  {
   "cell_type": "markdown",
   "metadata": {},
   "source": [
    "As we can see, columns host_since and price are not the right data type, we want to change those only"
   ]
  },
  {
   "cell_type": "code",
   "execution_count": 13,
   "metadata": {},
   "outputs": [],
   "source": [
    "### Change column datatype\n",
    "df['host_since'] = pd.to_datetime(df['host_since'])"
   ]
  },
  {
   "cell_type": "markdown",
   "metadata": {},
   "source": [
    "For the price column we need to remove the $\\$$ sign and the commas before change its data type"
   ]
  },
  {
   "cell_type": "code",
   "execution_count": 24,
   "metadata": {},
   "outputs": [],
   "source": [
    "### Remove $ sign\n",
    "df['price'].replace({'\\$': ''}, inplace=True, regex=True)\n",
    "### Remove commas\n",
    "df['price'].replace({',': ''}, inplace=True, regex=True)\n",
    "### Change column datatype\n",
    "df['price'] = df['price'].astype(float)"
   ]
  },
  {
   "cell_type": "code",
   "execution_count": 32,
   "metadata": {},
   "outputs": [
    {
     "data": {
      "text/plain": [
       "id                             int64\n",
       "name                          object\n",
       "host_id                        int64\n",
       "host_since                    object\n",
       "host_total_listings_count      int64\n",
       "latitude                     float64\n",
       "longitude                    float64\n",
       "neighbourhood_cleansed        object\n",
       "property_type                 object\n",
       "room_type                     object\n",
       "square_feet                  float64\n",
       "price                        float64\n",
       "review_scores_rating         float64\n",
       "dtype: object"
      ]
     },
     "execution_count": 32,
     "metadata": {},
     "output_type": "execute_result"
    }
   ],
   "source": [
    "df.dtypes"
   ]
  },
  {
   "cell_type": "markdown",
   "metadata": {},
   "source": [
    "Data set is clean and ready for analysis.\n",
    "\n",
    "Finally we save the data set."
   ]
  },
  {
   "cell_type": "code",
   "execution_count": 34,
   "metadata": {},
   "outputs": [
    {
     "data": {
      "text/html": [
       "<div>\n",
       "<style scoped>\n",
       "    .dataframe tbody tr th:only-of-type {\n",
       "        vertical-align: middle;\n",
       "    }\n",
       "\n",
       "    .dataframe tbody tr th {\n",
       "        vertical-align: top;\n",
       "    }\n",
       "\n",
       "    .dataframe thead th {\n",
       "        text-align: right;\n",
       "    }\n",
       "</style>\n",
       "<table border=\"1\" class=\"dataframe\">\n",
       "  <thead>\n",
       "    <tr style=\"text-align: right;\">\n",
       "      <th></th>\n",
       "      <th>id</th>\n",
       "      <th>name</th>\n",
       "      <th>host_id</th>\n",
       "      <th>host_since</th>\n",
       "      <th>host_total_listings_count</th>\n",
       "      <th>latitude</th>\n",
       "      <th>longitude</th>\n",
       "      <th>neighbourhood_cleansed</th>\n",
       "      <th>property_type</th>\n",
       "      <th>room_type</th>\n",
       "      <th>square_feet</th>\n",
       "      <th>price</th>\n",
       "      <th>review_scores_rating</th>\n",
       "    </tr>\n",
       "  </thead>\n",
       "  <tbody>\n",
       "    <tr>\n",
       "      <th>21657</th>\n",
       "      <td>43517931</td>\n",
       "      <td>a media Cuadra de Reforma 222</td>\n",
       "      <td>78475678</td>\n",
       "      <td>2016-06-18</td>\n",
       "      <td>1</td>\n",
       "      <td>19.43110</td>\n",
       "      <td>-99.16093</td>\n",
       "      <td>Cuauhtémoc</td>\n",
       "      <td>House</td>\n",
       "      <td>Private room</td>\n",
       "      <td>NaN</td>\n",
       "      <td>432.0</td>\n",
       "      <td>NaN</td>\n",
       "    </tr>\n",
       "    <tr>\n",
       "      <th>21658</th>\n",
       "      <td>43520164</td>\n",
       "      <td>Depa en ajusco</td>\n",
       "      <td>168938330</td>\n",
       "      <td>2018-01-20</td>\n",
       "      <td>1</td>\n",
       "      <td>19.28033</td>\n",
       "      <td>-99.21582</td>\n",
       "      <td>Tlalpan</td>\n",
       "      <td>Apartment</td>\n",
       "      <td>Entire home/apt</td>\n",
       "      <td>NaN</td>\n",
       "      <td>1705.0</td>\n",
       "      <td>NaN</td>\n",
       "    </tr>\n",
       "    <tr>\n",
       "      <th>21659</th>\n",
       "      <td>43523985</td>\n",
       "      <td>Un acogedor lugar, lleno de luz y plantas.</td>\n",
       "      <td>37100931</td>\n",
       "      <td>2015-06-30</td>\n",
       "      <td>1</td>\n",
       "      <td>19.37843</td>\n",
       "      <td>-99.16049</td>\n",
       "      <td>Benito Juárez</td>\n",
       "      <td>Apartment</td>\n",
       "      <td>Private room</td>\n",
       "      <td>NaN</td>\n",
       "      <td>736.0</td>\n",
       "      <td>NaN</td>\n",
       "    </tr>\n",
       "    <tr>\n",
       "      <th>21660</th>\n",
       "      <td>43527334</td>\n",
       "      <td>Estrena hermoso departamento</td>\n",
       "      <td>71849927</td>\n",
       "      <td>2016-05-13</td>\n",
       "      <td>1</td>\n",
       "      <td>19.38477</td>\n",
       "      <td>-99.19640</td>\n",
       "      <td>Álvaro Obregón</td>\n",
       "      <td>Condominium</td>\n",
       "      <td>Entire home/apt</td>\n",
       "      <td>NaN</td>\n",
       "      <td>669.0</td>\n",
       "      <td>NaN</td>\n",
       "    </tr>\n",
       "    <tr>\n",
       "      <th>21661</th>\n",
       "      <td>43527513</td>\n",
       "      <td>3 Bedroom Apartment in Centro, CDMX [Mexico City]</td>\n",
       "      <td>346685643</td>\n",
       "      <td>2020-05-18</td>\n",
       "      <td>1</td>\n",
       "      <td>19.43575</td>\n",
       "      <td>-99.13223</td>\n",
       "      <td>Cuauhtémoc</td>\n",
       "      <td>Apartment</td>\n",
       "      <td>Entire home/apt</td>\n",
       "      <td>NaN</td>\n",
       "      <td>55602.0</td>\n",
       "      <td>NaN</td>\n",
       "    </tr>\n",
       "  </tbody>\n",
       "</table>\n",
       "</div>"
      ],
      "text/plain": [
       "             id                                               name    host_id  \\\n",
       "21657  43517931                      a media Cuadra de Reforma 222   78475678   \n",
       "21658  43520164                                     Depa en ajusco  168938330   \n",
       "21659  43523985         Un acogedor lugar, lleno de luz y plantas.   37100931   \n",
       "21660  43527334                       Estrena hermoso departamento   71849927   \n",
       "21661  43527513  3 Bedroom Apartment in Centro, CDMX [Mexico City]  346685643   \n",
       "\n",
       "       host_since  host_total_listings_count  latitude  longitude  \\\n",
       "21657  2016-06-18                          1  19.43110  -99.16093   \n",
       "21658  2018-01-20                          1  19.28033  -99.21582   \n",
       "21659  2015-06-30                          1  19.37843  -99.16049   \n",
       "21660  2016-05-13                          1  19.38477  -99.19640   \n",
       "21661  2020-05-18                          1  19.43575  -99.13223   \n",
       "\n",
       "      neighbourhood_cleansed property_type        room_type  square_feet  \\\n",
       "21657             Cuauhtémoc         House     Private room          NaN   \n",
       "21658                Tlalpan     Apartment  Entire home/apt          NaN   \n",
       "21659          Benito Juárez     Apartment     Private room          NaN   \n",
       "21660         Álvaro Obregón   Condominium  Entire home/apt          NaN   \n",
       "21661             Cuauhtémoc     Apartment  Entire home/apt          NaN   \n",
       "\n",
       "         price  review_scores_rating  \n",
       "21657    432.0                   NaN  \n",
       "21658   1705.0                   NaN  \n",
       "21659    736.0                   NaN  \n",
       "21660    669.0                   NaN  \n",
       "21661  55602.0                   NaN  "
      ]
     },
     "execution_count": 34,
     "metadata": {},
     "output_type": "execute_result"
    }
   ],
   "source": [
    "df.tail()"
   ]
  },
  {
   "cell_type": "code",
   "execution_count": 33,
   "metadata": {},
   "outputs": [],
   "source": [
    "df.to_csv(\"airbnb_clean.csv\", index=False)"
   ]
  }
 ],
 "metadata": {
  "kernelspec": {
   "display_name": "Python 3",
   "language": "python",
   "name": "python3"
  },
  "language_info": {
   "codemirror_mode": {
    "name": "ipython",
    "version": 3
   },
   "file_extension": ".py",
   "mimetype": "text/x-python",
   "name": "python",
   "nbconvert_exporter": "python",
   "pygments_lexer": "ipython3",
   "version": "3.6.5"
  }
 },
 "nbformat": 4,
 "nbformat_minor": 4
}
